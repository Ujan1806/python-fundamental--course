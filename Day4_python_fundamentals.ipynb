{
 "cells": [
  {
   "cell_type": "code",
   "execution_count": null,
   "id": "b6e2a407-5bf4-4f49-8ee4-a02ddd78101a",
   "metadata": {},
   "outputs": [],
   "source": [
    "introduction to numbers:"
   ]
  },
  {
   "cell_type": "code",
   "execution_count": 1,
   "id": "a04c9497-6e25-4f20-9c25-ba075a5157c8",
   "metadata": {},
   "outputs": [
    {
     "name": "stdout",
     "output_type": "stream",
     "text": [
      "123\n"
     ]
    }
   ],
   "source": [
    "number = 123\n",
    "print(number)"
   ]
  },
  {
   "cell_type": "code",
   "execution_count": 2,
   "id": "f804496c-2482-44d7-9ee1-715fa7a08374",
   "metadata": {},
   "outputs": [
    {
     "data": {
      "text/plain": [
       "int"
      ]
     },
     "execution_count": 2,
     "metadata": {},
     "output_type": "execute_result"
    }
   ],
   "source": [
    "type(number)"
   ]
  },
  {
   "cell_type": "code",
   "execution_count": 3,
   "id": "f23f0d75-4086-40e8-a501-291365817f06",
   "metadata": {},
   "outputs": [
    {
     "name": "stdout",
     "output_type": "stream",
     "text": [
      "0.1\n"
     ]
    }
   ],
   "source": [
    "num2 = 0.1\n",
    "print(num2)"
   ]
  },
  {
   "cell_type": "code",
   "execution_count": 4,
   "id": "0d6d9950-a78f-42e7-a480-fd4d8e7c2ed0",
   "metadata": {},
   "outputs": [
    {
     "data": {
      "text/plain": [
       "float"
      ]
     },
     "execution_count": 4,
     "metadata": {},
     "output_type": "execute_result"
    }
   ],
   "source": [
    "type(num2)"
   ]
  },
  {
   "cell_type": "code",
   "execution_count": null,
   "id": "dd2e26a7-7510-479f-a331-ddca6228e361",
   "metadata": {},
   "outputs": [],
   "source": [
    "introduction to list datatype:\n",
    "def: a list is a collection of items defined in a particular order\n",
    "classification: it is classified as mutable\n",
    "how to define list datatype : [] #square brakets"
   ]
  },
  {
   "cell_type": "code",
   "execution_count": 5,
   "id": "af1e81df-c32c-49b6-a9d5-fdca510653ec",
   "metadata": {},
   "outputs": [],
   "source": [
    "students = ['arpita','ashwini','asma','bhuvan','david','kartik']    #[0,1,2,3,....]"
   ]
  },
  {
   "cell_type": "code",
   "execution_count": 6,
   "id": "e09c0e27-2388-49f9-af28-38a2a06a4a13",
   "metadata": {},
   "outputs": [
    {
     "name": "stdout",
     "output_type": "stream",
     "text": [
      "['arpita', 'ashwini', 'asma', 'bhuvan', 'david', 'kartik']\n"
     ]
    }
   ],
   "source": [
    "print(students)"
   ]
  },
  {
   "cell_type": "code",
   "execution_count": 8,
   "id": "a9b1f43e-6102-4f43-a566-62f1bcc6700c",
   "metadata": {},
   "outputs": [
    {
     "data": {
      "text/plain": [
       "list"
      ]
     },
     "execution_count": 8,
     "metadata": {},
     "output_type": "execute_result"
    }
   ],
   "source": [
    "type(students)"
   ]
  },
  {
   "cell_type": "code",
   "execution_count": null,
   "id": "5fd45e64-48ee-4faf-ae65-ea2229ea2159",
   "metadata": {},
   "outputs": [],
   "source": [
    "introduction to indexing: 0,1,2,3,4....."
   ]
  },
  {
   "cell_type": "code",
   "execution_count": null,
   "id": "a4621880-6c0f-438c-a234-bf0065dc984a",
   "metadata": {},
   "outputs": [],
   "source": [
    "points to discuss:"
   ]
  },
  {
   "cell_type": "code",
   "execution_count": null,
   "id": "fccf1aaf-0f3b-410b-b7c6-6b42fd1830d6",
   "metadata": {},
   "outputs": [],
   "source": [
    "#req: if i want to access ashwini name in the output"
   ]
  },
  {
   "cell_type": "code",
   "execution_count": 9,
   "id": "0e99c879-5e2c-40ca-917e-94efa4e544b6",
   "metadata": {},
   "outputs": [
    {
     "name": "stdout",
     "output_type": "stream",
     "text": [
      "Ashwini\n"
     ]
    }
   ],
   "source": [
    "print(students[1].title())"
   ]
  },
  {
   "cell_type": "code",
   "execution_count": 11,
   "id": "1392eec3-c855-41fd-b178-949a0e48993b",
   "metadata": {},
   "outputs": [
    {
     "name": "stdout",
     "output_type": "stream",
     "text": [
      "bhuvan\n"
     ]
    }
   ],
   "source": [
    "#i want to access bhuvans name:\n",
    "print(students[3])"
   ]
  },
  {
   "cell_type": "code",
   "execution_count": null,
   "id": "4824b80b-5ec5-41dc-8745-b454d4479310",
   "metadata": {},
   "outputs": [],
   "source": [
    "how to add new elements in the list \n",
    "\n",
    "how to modify this elements in the list\n",
    "\n",
    "how to delete elements in the list"
   ]
  },
  {
   "cell_type": "raw",
   "id": "989d7af2-3136-4399-8870-5202a2b56a3f",
   "metadata": {},
   "source": []
  },
  {
   "cell_type": "code",
   "execution_count": 12,
   "id": "e5130a3c-db9e-4699-bca5-b363c588f3b8",
   "metadata": {},
   "outputs": [
    {
     "name": "stdout",
     "output_type": "stream",
     "text": [
      "['arpita', 'ashwini', 'asma', 'bhuvan', 'david', 'kartik']\n"
     ]
    }
   ],
   "source": [
    "print(students)"
   ]
  },
  {
   "cell_type": "code",
   "execution_count": 13,
   "id": "54652fed-d27b-4c2b-a7d9-1f6556a5ca0a",
   "metadata": {},
   "outputs": [],
   "source": [
    "#req: i want to add shafi in the above list\n",
    "students.append('shafi')"
   ]
  },
  {
   "cell_type": "code",
   "execution_count": 14,
   "id": "62879794-a434-4825-bea9-f2785a06a4ae",
   "metadata": {},
   "outputs": [
    {
     "name": "stdout",
     "output_type": "stream",
     "text": [
      "['arpita', 'ashwini', 'asma', 'bhuvan', 'david', 'kartik', 'shafi']\n"
     ]
    }
   ],
   "source": [
    "print(students)"
   ]
  },
  {
   "cell_type": "code",
   "execution_count": 15,
   "id": "63991f47-e2b0-46ef-940e-4a018d0af9f6",
   "metadata": {},
   "outputs": [],
   "source": [
    "#req: i want to add venkat in the above list\n",
    "students.append('venkat')"
   ]
  },
  {
   "cell_type": "code",
   "execution_count": 16,
   "id": "00c83856-c54b-4099-b13e-650050e49a01",
   "metadata": {},
   "outputs": [
    {
     "name": "stdout",
     "output_type": "stream",
     "text": [
      "['arpita', 'ashwini', 'asma', 'bhuvan', 'david', 'kartik', 'shafi', 'venkat']\n"
     ]
    }
   ],
   "source": [
    "print(students)"
   ]
  },
  {
   "cell_type": "code",
   "execution_count": 17,
   "id": "2c01dc6b-ee94-47cc-88a3-78eac873dec9",
   "metadata": {},
   "outputs": [],
   "source": [
    "#i want to add kaleem at 2nd index pos\n",
    "students.insert(2,'kaleem')"
   ]
  },
  {
   "cell_type": "code",
   "execution_count": 18,
   "id": "3dfd12e0-03c1-4402-8f11-318fc5fc1eac",
   "metadata": {},
   "outputs": [
    {
     "name": "stdout",
     "output_type": "stream",
     "text": [
      "['arpita', 'ashwini', 'kaleem', 'asma', 'bhuvan', 'david', 'kartik', 'shafi', 'venkat']\n"
     ]
    }
   ],
   "source": [
    "print(students)"
   ]
  },
  {
   "cell_type": "code",
   "execution_count": null,
   "id": "4a3f0284-b180-49b7-bcf6-aae7fb57a425",
   "metadata": {},
   "outputs": [],
   "source": [
    "interview_question: what is the different between append and insert methods in  a list of datatypes....?"
   ]
  },
  {
   "cell_type": "code",
   "execution_count": 19,
   "id": "def92d93-2f0e-4937-8d34-eb831760c057",
   "metadata": {},
   "outputs": [
    {
     "name": "stdout",
     "output_type": "stream",
     "text": [
      "['arpita', 'ashwini', 'kaleem', 'asma', 'bhuvan', 'david', 'kartik', 'shafi', 'venkat']\n"
     ]
    }
   ],
   "source": [
    "print(students)"
   ]
  },
  {
   "cell_type": "code",
   "execution_count": 21,
   "id": "968a5d99-2def-4417-a14d-b396ebdc6a68",
   "metadata": {},
   "outputs": [],
   "source": [
    "#req: i want to modify arpita name to anand...\n",
    "students[0] = 'anand'"
   ]
  },
  {
   "cell_type": "code",
   "execution_count": 22,
   "id": "c6b1dbeb-d9ed-4f0b-a3dc-a1e6e6739635",
   "metadata": {},
   "outputs": [
    {
     "name": "stdout",
     "output_type": "stream",
     "text": [
      "['anand', 'ashwini', 'kaleem', 'asma', 'bhuvan', 'david', 'kartik', 'shafi', 'venkat']\n"
     ]
    }
   ],
   "source": [
    "print(students)"
   ]
  },
  {
   "cell_type": "code",
   "execution_count": 23,
   "id": "2451c92e-1d1a-4863-a40d-e23afccdc46c",
   "metadata": {},
   "outputs": [],
   "source": [
    "#req: i want to delete ashwini name in the above list\n",
    "del students[1]"
   ]
  },
  {
   "cell_type": "code",
   "execution_count": 24,
   "id": "5033b1cf-05ba-4f46-891f-e42bb605fc8c",
   "metadata": {},
   "outputs": [
    {
     "name": "stdout",
     "output_type": "stream",
     "text": [
      "['anand', 'kaleem', 'asma', 'bhuvan', 'david', 'kartik', 'shafi', 'venkat']\n"
     ]
    }
   ],
   "source": [
    "print(students)"
   ]
  },
  {
   "cell_type": "code",
   "execution_count": null,
   "id": "0576c2b0-11b2-4970-965e-2301c3822f06",
   "metadata": {},
   "outputs": [],
   "source": []
  }
 ],
 "metadata": {
  "kernelspec": {
   "display_name": "Python 3 (ipykernel)",
   "language": "python",
   "name": "python3"
  },
  "language_info": {
   "codemirror_mode": {
    "name": "ipython",
    "version": 3
   },
   "file_extension": ".py",
   "mimetype": "text/x-python",
   "name": "python",
   "nbconvert_exporter": "python",
   "pygments_lexer": "ipython3",
   "version": "3.12.7"
  }
 },
 "nbformat": 4,
 "nbformat_minor": 5
}
