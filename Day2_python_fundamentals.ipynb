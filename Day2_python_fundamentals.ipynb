{
 "cells": [
  {
   "cell_type": "code",
   "execution_count": null,
   "id": "df78517b-ca95-4ef3-9e32-b7d51bf4718f",
   "metadata": {},
   "outputs": [],
   "source": [
    "Introduction to python programming"
   ]
  },
  {
   "cell_type": "code",
   "execution_count": null,
   "id": "eecb7783-6229-41ba-9bb6-b35dd09fada7",
   "metadata": {},
   "outputs": [],
   "source": [
    "understanding the variables in python:"
   ]
  },
  {
   "cell_type": "code",
   "execution_count": 1,
   "id": "4d60423d-b5c1-4506-8107-b99c8e7bbfd8",
   "metadata": {},
   "outputs": [
    {
     "name": "stdout",
     "output_type": "stream",
     "text": [
      "7\n"
     ]
    }
   ],
   "source": [
    "x = 3\n",
    "y = 4\n",
    "z = x+y\n",
    "print(z)"
   ]
  },
  {
   "cell_type": "code",
   "execution_count": null,
   "id": "45dfb6c1-8854-4787-aa69-2dccab9bd8ae",
   "metadata": {},
   "outputs": [],
   "source": [
    "rules for declaring the variables in python\n",
    "1. no namespaces while declaring the variables in python\n",
    "2.  A name should not start with a number\n",
    "3. a variable name shd not start with any special character"
   ]
  },
  {
   "cell_type": "code",
   "execution_count": 2,
   "id": "0874c1fa-6c49-4099-ae44-0e44ea1c7ee3",
   "metadata": {},
   "outputs": [
    {
     "name": "stdout",
     "output_type": "stream",
     "text": [
      "Ujan\n"
     ]
    }
   ],
   "source": [
    "name1 = 'Ujan'\n",
    "print(name1)"
   ]
  },
  {
   "cell_type": "code",
   "execution_count": null,
   "id": "e8c02031-924a-4a7f-af5b-2b60756afa53",
   "metadata": {},
   "outputs": [],
   "source": [
    "introduction to datatypes in python:\n",
    "1. strings=str\n",
    "2. number= int or float\n",
    "3. list\n",
    "4. tuples\n",
    "5. dictionary\n",
    "\n",
    "note: python is a case sensitive lang\n"
   ]
  },
  {
   "cell_type": "code",
   "execution_count": null,
   "id": "1fe1b711-cae7-47c2-9ed9-fd6727f73769",
   "metadata": {},
   "outputs": [],
   "source": [
    "classification of datatypes in python :\n",
    "2 different categories\n",
    "1. mutable \n",
    "2. immutable"
   ]
  },
  {
   "cell_type": "code",
   "execution_count": null,
   "id": "6dde69d7-b672-43ad-b439-092417b4d930",
   "metadata": {},
   "outputs": [],
   "source": [
    "introduction to strind datatypes:\n",
    "definition: A string is a series of characters declared in quotes\n",
    "classfication : it is  classified as an immutable datatypes\n",
    "how to declare the string datatype => 2 approaches\n",
    "1. single quotes \n",
    "2. double quotes\n",
    "\n"
   ]
  },
  {
   "cell_type": "code",
   "execution_count": 3,
   "id": "5641d6dd-6185-42df-b153-b74139cfaae5",
   "metadata": {},
   "outputs": [
    {
     "name": "stdout",
     "output_type": "stream",
     "text": [
      "joseph\n"
     ]
    }
   ],
   "source": [
    "name = 'joseph'\n",
    "print(name)"
   ]
  },
  {
   "cell_type": "code",
   "execution_count": null,
   "id": "174116f8-268f-493c-8af2-4ba1b1cf010c",
   "metadata": {},
   "outputs": [],
   "source": [
    "single quotes and double quotes both work to get output"
   ]
  },
  {
   "cell_type": "code",
   "execution_count": 4,
   "id": "6f721bb4-a98f-465a-9604-a2ae711f9809",
   "metadata": {},
   "outputs": [
    {
     "name": "stdout",
     "output_type": "stream",
     "text": [
      "Kavya\n"
     ]
    }
   ],
   "source": [
    "name = \"Kavya\"\n",
    "print(name)"
   ]
  },
  {
   "cell_type": "code",
   "execution_count": null,
   "id": "c04a49ec-3d80-48b2-9b51-1aa112fe020b",
   "metadata": {},
   "outputs": [],
   "source": [
    "introduction to string methods :\n"
   ]
  },
  {
   "cell_type": "code",
   "execution_count": 5,
   "id": "95aedd28-8d2b-4ae6-ab7c-94c4e79937ad",
   "metadata": {},
   "outputs": [
    {
     "data": {
      "text/plain": [
       "str"
      ]
     },
     "execution_count": 5,
     "metadata": {},
     "output_type": "execute_result"
    }
   ],
   "source": [
    "type(name)\n"
   ]
  },
  {
   "cell_type": "code",
   "execution_count": 8,
   "id": "97fb39ea-b247-4236-a08b-a85126755503",
   "metadata": {},
   "outputs": [
    {
     "name": "stdout",
     "output_type": "stream",
     "text": [
      "ujan dutta\n"
     ]
    }
   ],
   "source": [
    "fullname = 'ujan dutta'\n",
    "print(fullname)"
   ]
  },
  {
   "cell_type": "code",
   "execution_count": null,
   "id": "594e20fb-7997-4d28-9351-b52ab9dba764",
   "metadata": {},
   "outputs": [],
   "source": [
    "#req: to corret the format"
   ]
  },
  {
   "cell_type": "code",
   "execution_count": 9,
   "id": "36c7f9ca-e867-4f2f-b247-dc15142a1950",
   "metadata": {},
   "outputs": [
    {
     "name": "stdout",
     "output_type": "stream",
     "text": [
      "Ujan Dutta\n"
     ]
    }
   ],
   "source": [
    "print(fullname.title())"
   ]
  },
  {
   "cell_type": "code",
   "execution_count": null,
   "id": "9d42f310-6764-4175-b302-6c758ad3b0e7",
   "metadata": {},
   "outputs": [],
   "source": [
    "#req: i want the entire name in caps"
   ]
  },
  {
   "cell_type": "code",
   "execution_count": 10,
   "id": "7f3d4e3c-6b2b-4883-a412-fd28a0e28029",
   "metadata": {},
   "outputs": [
    {
     "name": "stdout",
     "output_type": "stream",
     "text": [
      "UJAN DUTTA\n"
     ]
    }
   ],
   "source": [
    "print(fullname.upper())"
   ]
  },
  {
   "cell_type": "code",
   "execution_count": null,
   "id": "19464774-5270-4b85-afd8-c89135a919ee",
   "metadata": {},
   "outputs": [],
   "source": [
    "#req: i want the entire name in small case letters"
   ]
  },
  {
   "cell_type": "code",
   "execution_count": 11,
   "id": "fb2f31a7-ea8a-4ab9-9b6d-3a56693d5779",
   "metadata": {},
   "outputs": [
    {
     "name": "stdout",
     "output_type": "stream",
     "text": [
      "ujan dutta\n"
     ]
    }
   ],
   "source": [
    "print(fullname.lower())"
   ]
  },
  {
   "cell_type": "code",
   "execution_count": null,
   "id": "2cc8b548-e466-4289-a411-e355a5a96d4d",
   "metadata": {},
   "outputs": [],
   "source": []
  }
 ],
 "metadata": {
  "kernelspec": {
   "display_name": "Python 3 (ipykernel)",
   "language": "python",
   "name": "python3"
  },
  "language_info": {
   "codemirror_mode": {
    "name": "ipython",
    "version": 3
   },
   "file_extension": ".py",
   "mimetype": "text/x-python",
   "name": "python",
   "nbconvert_exporter": "python",
   "pygments_lexer": "ipython3",
   "version": "3.12.7"
  }
 },
 "nbformat": 4,
 "nbformat_minor": 5
}
