{
 "cells": [
  {
   "cell_type": "code",
   "execution_count": null,
   "id": "398be40b-643d-4264-ad1b-d6843af5a210",
   "metadata": {},
   "outputs": [],
   "source": [
    "introduction to conditional statements:"
   ]
  },
  {
   "cell_type": "code",
   "execution_count": null,
   "id": "d7210891-2410-4bd5-8815-833c10b095a2",
   "metadata": {},
   "outputs": [],
   "source": [
    "if statements:"
   ]
  },
  {
   "cell_type": "code",
   "execution_count": 4,
   "id": "97639142-342f-47d4-909b-405e1e83d72d",
   "metadata": {},
   "outputs": [],
   "source": [
    "cars = ['audi','bmw','hundai','toyota','kia','suzuki','maruthi']"
   ]
  },
  {
   "cell_type": "code",
   "execution_count": 5,
   "id": "5b2cf153-fd6d-4870-9faf-f2b17320c8e5",
   "metadata": {},
   "outputs": [
    {
     "name": "stdout",
     "output_type": "stream",
     "text": [
      "['audi', 'bmw', 'hundai', 'toyota', 'kia', 'suzuki', 'maruthi']\n"
     ]
    }
   ],
   "source": [
    "print(cars)"
   ]
  },
  {
   "cell_type": "code",
   "execution_count": 3,
   "id": "7fbeb8df-003c-4257-9da9-e46f989c8be3",
   "metadata": {},
   "outputs": [
    {
     "data": {
      "text/plain": [
       "list"
      ]
     },
     "execution_count": 3,
     "metadata": {},
     "output_type": "execute_result"
    }
   ],
   "source": [
    "type(cars)"
   ]
  },
  {
   "cell_type": "code",
   "execution_count": null,
   "id": "cba8a1e5-4c6b-4591-97b5-74b00a3f25c9",
   "metadata": {},
   "outputs": [],
   "source": [
    "#req : i want to get suzuki in the capital letters and rest all the cars should be printed in the title case"
   ]
  },
  {
   "cell_type": "code",
   "execution_count": 6,
   "id": "1d3314e4-7972-4aac-8135-af17b3360f6c",
   "metadata": {},
   "outputs": [
    {
     "name": "stdout",
     "output_type": "stream",
     "text": [
      "Audi\n",
      "Bmw\n",
      "Hundai\n",
      "Toyota\n",
      "Kia\n",
      "SUZUKI\n",
      "Maruthi\n"
     ]
    }
   ],
   "source": [
    "for a in cars:\n",
    "    if a == 'suzuki':\n",
    "        print(a.upper())\n",
    "    else:\n",
    "        print(a.title())"
   ]
  },
  {
   "cell_type": "code",
   "execution_count": null,
   "id": "d30341a5-cd3c-4578-a87b-b1e80d6b77f4",
   "metadata": {},
   "outputs": [],
   "source": [
    "#req: building an voting application"
   ]
  },
  {
   "cell_type": "code",
   "execution_count": 7,
   "id": "cb33c91b-b61f-4b2d-9130-68f3b571335f",
   "metadata": {},
   "outputs": [],
   "source": [
    "age = 17"
   ]
  },
  {
   "cell_type": "code",
   "execution_count": 8,
   "id": "f0df1eee-e482-4bcb-9396-83dcccbfb2ec",
   "metadata": {},
   "outputs": [
    {
     "name": "stdout",
     "output_type": "stream",
     "text": [
      "your not eligible to vote\n"
     ]
    }
   ],
   "source": [
    "if age >= 18:\n",
    "    print(\"your eligible to vote\")\n",
    "else:\n",
    "    print(\"your not eligible to vote\")"
   ]
  },
  {
   "cell_type": "code",
   "execution_count": null,
   "id": "34972fa7-e534-4cd1-a132-01eac01ebccf",
   "metadata": {},
   "outputs": [],
   "source": [
    "understanding the concept of user input :"
   ]
  },
  {
   "cell_type": "code",
   "execution_count": 10,
   "id": "fa587113-2aaa-4da7-bf06-445eb64bb836",
   "metadata": {},
   "outputs": [
    {
     "name": "stdin",
     "output_type": "stream",
     "text": [
      "tell me something and i will repeat it back for you  hello\n"
     ]
    },
    {
     "name": "stdout",
     "output_type": "stream",
     "text": [
      "hello\n"
     ]
    }
   ],
   "source": [
    "message = input(\"tell me something and i will repeat it back for you \")\n",
    "print(message)"
   ]
  },
  {
   "cell_type": "code",
   "execution_count": 11,
   "id": "55cf00be-8236-4435-99e7-55e0d65020e4",
   "metadata": {},
   "outputs": [
    {
     "name": "stdin",
     "output_type": "stream",
     "text": [
      "please enter your name:  ujan\n"
     ]
    },
    {
     "name": "stdout",
     "output_type": "stream",
     "text": [
      "\n",
      "Hello,ujan\n"
     ]
    }
   ],
   "source": [
    "#i want to greet the user based on the input:\n",
    "name = input(\"please enter your name: \")\n",
    "print(f\"\\nHello,{name}\")"
   ]
  },
  {
   "cell_type": "code",
   "execution_count": 14,
   "id": "20fa6f8f-99d6-480e-8154-280a9aa68a82",
   "metadata": {},
   "outputs": [
    {
     "name": "stdin",
     "output_type": "stream",
     "text": [
      "how old are you? 6\n"
     ]
    },
    {
     "name": "stdout",
     "output_type": "stream",
     "text": [
      "you are not eligible to vote\n"
     ]
    }
   ],
   "source": [
    "age = input(\"how old are you?\")\n",
    "age = int(age)   # im converting the string to int\n",
    "if age >= 18:\n",
    "    print(\"your eligible to vote\")\n",
    "else:\n",
    "    print(\"you are not eligible to vote\")"
   ]
  },
  {
   "cell_type": "code",
   "execution_count": 15,
   "id": "ac8e9274-e706-4f56-8e03-79ff213b6e17",
   "metadata": {},
   "outputs": [
    {
     "name": "stdin",
     "output_type": "stream",
     "text": [
      "enter a number, i will tell you its even or odd 6\n"
     ]
    },
    {
     "name": "stdout",
     "output_type": "stream",
     "text": [
      "\n",
      " the number 6 is even\n"
     ]
    }
   ],
   "source": [
    "#req : if given a number by the user, i want to find whether its even or odd\n",
    "number = int(input(\"enter a number, i will tell you its even or odd\"))\n",
    "if number%2 == 0:\n",
    "    print(f\"\\n the number {number} is even\")\n",
    "else:\n",
    "    print(f\"\\n the number{number} is odd\")"
   ]
  },
  {
   "cell_type": "code",
   "execution_count": null,
   "id": "67ac2a9a-114a-4bed-a780-b97c6e3f1d03",
   "metadata": {},
   "outputs": [],
   "source": []
  },
  {
   "cell_type": "code",
   "execution_count": null,
   "id": "f968490e-036d-4842-9335-84908cf42cba",
   "metadata": {},
   "outputs": [],
   "source": []
  },
  {
   "cell_type": "code",
   "execution_count": null,
   "id": "8ac93a5d-122a-42b9-88f8-247d8b985f51",
   "metadata": {},
   "outputs": [],
   "source": []
  }
 ],
 "metadata": {
  "kernelspec": {
   "display_name": "Python 3 (ipykernel)",
   "language": "python",
   "name": "python3"
  },
  "language_info": {
   "codemirror_mode": {
    "name": "ipython",
    "version": 3
   },
   "file_extension": ".py",
   "mimetype": "text/x-python",
   "name": "python",
   "nbconvert_exporter": "python",
   "pygments_lexer": "ipython3",
   "version": "3.12.7"
  }
 },
 "nbformat": 4,
 "nbformat_minor": 5
}
