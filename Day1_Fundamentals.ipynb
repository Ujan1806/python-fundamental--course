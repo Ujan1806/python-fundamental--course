{
 "cells": [
  {
   "cell_type": "code",
   "execution_count": 2,
   "id": "d7c34583-fb81-4fd9-a654-ac04db9999c4",
   "metadata": {},
   "outputs": [
    {
     "name": "stdout",
     "output_type": "stream",
     "text": [
      "Hello World\n"
     ]
    }
   ],
   "source": [
    "print (\"Hello World\") #this is input"
   ]
  },
  {
   "cell_type": "code",
   "execution_count": 3,
   "id": "26295487-06eb-444d-beb8-abeb092a68e8",
   "metadata": {},
   "outputs": [
    {
     "name": "stdout",
     "output_type": "stream",
     "text": [
      "Hello all welcome to python programming session\n"
     ]
    }
   ],
   "source": [
    "print (\"Hello all welcome to python programming session\")"
   ]
  },
  {
   "cell_type": "code",
   "execution_count": null,
   "id": "de8306d0-e4b7-462e-af39-dbc3635ac842",
   "metadata": {},
   "outputs": [],
   "source": []
  }
 ],
 "metadata": {
  "kernelspec": {
   "display_name": "Python 3 (ipykernel)",
   "language": "python",
   "name": "python3"
  },
  "language_info": {
   "codemirror_mode": {
    "name": "ipython",
    "version": 3
   },
   "file_extension": ".py",
   "mimetype": "text/x-python",
   "name": "python",
   "nbconvert_exporter": "python",
   "pygments_lexer": "ipython3",
   "version": "3.12.7"
  }
 },
 "nbformat": 4,
 "nbformat_minor": 5
}
