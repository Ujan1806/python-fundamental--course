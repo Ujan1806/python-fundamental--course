{
 "cells": [
  {
   "cell_type": "code",
   "execution_count": null,
   "id": "5b94341c-9b99-419d-9759-00ec8a5e2684",
   "metadata": {},
   "outputs": [],
   "source": [
    "continuation with list datatype:"
   ]
  },
  {
   "cell_type": "code",
   "execution_count": null,
   "id": "63d241f9-9c47-4c99-be6c-321fcc215f7a",
   "metadata": {},
   "outputs": [],
   "source": [
    "organising the list datatype:"
   ]
  },
  {
   "cell_type": "code",
   "execution_count": 1,
   "id": "1f822b4f-4c73-4d96-82ac-727a60250ecb",
   "metadata": {},
   "outputs": [],
   "source": [
    "cars = ['bmw','tata','suzuki','audi','toyota','benz']"
   ]
  },
  {
   "cell_type": "code",
   "execution_count": 2,
   "id": "c88afbb8-b4ab-4e20-978d-bca6a27ad9d2",
   "metadata": {},
   "outputs": [
    {
     "name": "stdout",
     "output_type": "stream",
     "text": [
      "['bmw', 'tata', 'suzuki', 'audi', 'toyota', 'benz']\n"
     ]
    }
   ],
   "source": [
    "print(cars)"
   ]
  },
  {
   "cell_type": "code",
   "execution_count": 3,
   "id": "9cbbdfa0-0a2f-413f-af66-bc49140eab23",
   "metadata": {},
   "outputs": [
    {
     "data": {
      "text/plain": [
       "list"
      ]
     },
     "execution_count": 3,
     "metadata": {},
     "output_type": "execute_result"
    }
   ],
   "source": [
    "type(cars)"
   ]
  },
  {
   "cell_type": "code",
   "execution_count": null,
   "id": "26a40fc7-c4ba-4c8f-99fb-65323af1b528",
   "metadata": {},
   "outputs": [],
   "source": [
    "#req: i want to organize the list in alphabetical order\n",
    "there are 2 approaches :\n",
    "1.temporary approach => sorted method => we will be able to get the original order defined.\n",
    "2.permanent approach => sort method"
   ]
  },
  {
   "cell_type": "code",
   "execution_count": 5,
   "id": "0f303543-815f-4491-b090-37edae1cd7e3",
   "metadata": {},
   "outputs": [
    {
     "name": "stdout",
     "output_type": "stream",
     "text": [
      "['audi', 'benz', 'bmw', 'suzuki', 'tata', 'toyota']\n"
     ]
    }
   ],
   "source": [
    "print(sorted(cars))  #this is the original order"
   ]
  },
  {
   "cell_type": "code",
   "execution_count": 6,
   "id": "3a485c9a-24e1-4a60-82ef-28770138509c",
   "metadata": {},
   "outputs": [
    {
     "name": "stdout",
     "output_type": "stream",
     "text": [
      "['bmw', 'tata', 'suzuki', 'audi', 'toyota', 'benz']\n"
     ]
    }
   ],
   "source": [
    "print(cars)"
   ]
  },
  {
   "cell_type": "code",
   "execution_count": 7,
   "id": "94ea8c6f-dd19-40b1-a250-99ac07a932c5",
   "metadata": {},
   "outputs": [],
   "source": [
    "cars.sort()"
   ]
  },
  {
   "cell_type": "code",
   "execution_count": 8,
   "id": "3e0f1386-7f80-445e-92a6-944e2e4dfb74",
   "metadata": {},
   "outputs": [
    {
     "name": "stdout",
     "output_type": "stream",
     "text": [
      "['audi', 'benz', 'bmw', 'suzuki', 'tata', 'toyota']\n"
     ]
    }
   ],
   "source": [
    "print(cars)"
   ]
  },
  {
   "cell_type": "code",
   "execution_count": null,
   "id": "693b8827-e733-464e-afba-5e8290525523",
   "metadata": {},
   "outputs": [],
   "source": [
    "interview q\n",
    "what is the difference between sort and sorted method in a list datatype?"
   ]
  },
  {
   "cell_type": "code",
   "execution_count": 9,
   "id": "1c62887b-3cbf-4b52-b52f-4c3b9420ac1d",
   "metadata": {},
   "outputs": [
    {
     "data": {
      "text/plain": [
       "6"
      ]
     },
     "execution_count": 9,
     "metadata": {},
     "output_type": "execute_result"
    }
   ],
   "source": [
    "#i want to count the number of elements in the list\n",
    "len(cars)"
   ]
  },
  {
   "cell_type": "code",
   "execution_count": null,
   "id": "fab2a504-dfa1-4593-b72d-7e1020a98219",
   "metadata": {},
   "outputs": [],
   "source": [
    "# req: i want to print the list in the A-Z , Z-A"
   ]
  },
  {
   "cell_type": "code",
   "execution_count": 10,
   "id": "3bdc6d19-7e19-4208-9341-9077121fae19",
   "metadata": {},
   "outputs": [],
   "source": [
    "cars.reverse()"
   ]
  },
  {
   "cell_type": "code",
   "execution_count": 11,
   "id": "32752c52-1589-4385-878f-f07e6c7a0ed2",
   "metadata": {},
   "outputs": [
    {
     "name": "stdout",
     "output_type": "stream",
     "text": [
      "['toyota', 'tata', 'suzuki', 'bmw', 'benz', 'audi']\n"
     ]
    }
   ],
   "source": [
    "print(cars)"
   ]
  },
  {
   "cell_type": "code",
   "execution_count": null,
   "id": "a8005b95-2bcd-4d12-bab2-a9c107d75ab5",
   "metadata": {},
   "outputs": [],
   "source": [
    "introduction to slicing:"
   ]
  },
  {
   "cell_type": "code",
   "execution_count": 16,
   "id": "cca92379-5e3b-4d78-af6c-53f973daba6f",
   "metadata": {},
   "outputs": [],
   "source": [
    "students = ['anika','arpita','bhushan','bhanu','chandra','cynthya','danish']"
   ]
  },
  {
   "cell_type": "code",
   "execution_count": 17,
   "id": "a0a721d0-81c3-4712-8a96-83c5ba575407",
   "metadata": {},
   "outputs": [
    {
     "name": "stdout",
     "output_type": "stream",
     "text": [
      "['anika', 'arpita', 'bhushan', 'bhanu', 'chandra', 'cynthya', 'danish']\n"
     ]
    }
   ],
   "source": [
    "print(students)"
   ]
  },
  {
   "cell_type": "code",
   "execution_count": null,
   "id": "5491ec9a-98df-44a3-9540-abb4ded9eb4b",
   "metadata": {},
   "outputs": [],
   "source": [
    "#general syntax for slicing:\n",
    "[start_value:stop_value:step_count]"
   ]
  },
  {
   "cell_type": "code",
   "execution_count": null,
   "id": "d4607c8b-a444-42c9-9369-b48780df9932",
   "metadata": {},
   "outputs": [],
   "source": [
    "Note: stop is always exclusive, to include the stop value increment the index by +1."
   ]
  },
  {
   "cell_type": "code",
   "execution_count": 18,
   "id": "cd0ded1e-e143-4478-b31f-1fa5be192488",
   "metadata": {},
   "outputs": [
    {
     "name": "stdout",
     "output_type": "stream",
     "text": [
      "['anika']\n"
     ]
    }
   ],
   "source": [
    "# req: i want to include anika and arpita in the slice.\n",
    "print(students[0:1])"
   ]
  },
  {
   "cell_type": "code",
   "execution_count": 19,
   "id": "1a0f41f2-69f3-4738-98ff-d1fb8e63841c",
   "metadata": {},
   "outputs": [
    {
     "name": "stdout",
     "output_type": "stream",
     "text": [
      "['anika', 'arpita']\n"
     ]
    }
   ],
   "source": [
    "print(students[0:2])"
   ]
  },
  {
   "cell_type": "code",
   "execution_count": 20,
   "id": "fdd79481-1976-429c-a463-2a4760a40e77",
   "metadata": {},
   "outputs": [
    {
     "name": "stdout",
     "output_type": "stream",
     "text": [
      "['anika', 'bhushan', 'chandra', 'danish']\n"
     ]
    }
   ],
   "source": [
    "print(students[0:7:2])"
   ]
  },
  {
   "cell_type": "code",
   "execution_count": null,
   "id": "b4335e92-49a2-40ee-ac53-a2f13db9afb5",
   "metadata": {},
   "outputs": [],
   "source": [
    "introduction to tuple datatype:\n",
    "defination : An immutable list is called as a tuple.\n",
    "classification : It is classified as an immutable datatype\n",
    "how to define the tuple datatype : ( )"
   ]
  },
  {
   "cell_type": "code",
   "execution_count": 21,
   "id": "564c1ecd-1e3d-4b5c-b1d5-83fba34692b2",
   "metadata": {},
   "outputs": [],
   "source": [
    "dimensions = (20,50)"
   ]
  },
  {
   "cell_type": "code",
   "execution_count": 22,
   "id": "805639d3-55ce-4398-b813-a61011bc383c",
   "metadata": {},
   "outputs": [
    {
     "name": "stdout",
     "output_type": "stream",
     "text": [
      "(20, 50)\n"
     ]
    }
   ],
   "source": [
    "print(dimensions)"
   ]
  },
  {
   "cell_type": "code",
   "execution_count": 23,
   "id": "e613933e-5d4a-44fb-855d-a6b2105f5ae4",
   "metadata": {},
   "outputs": [
    {
     "data": {
      "text/plain": [
       "tuple"
      ]
     },
     "execution_count": 23,
     "metadata": {},
     "output_type": "execute_result"
    }
   ],
   "source": [
    "type(dimensions)"
   ]
  },
  {
   "cell_type": "raw",
   "id": "be925aa5-0167-46ce-93ae-f401dcfe5ad3",
   "metadata": {},
   "source": []
  },
  {
   "cell_type": "code",
   "execution_count": 24,
   "id": "b9c13549-a186-4e1c-8737-5954c49606c5",
   "metadata": {},
   "outputs": [
    {
     "name": "stdout",
     "output_type": "stream",
     "text": [
      "50\n"
     ]
    }
   ],
   "source": [
    "print(dimensions[1])"
   ]
  },
  {
   "cell_type": "code",
   "execution_count": null,
   "id": "552dec83-e3ff-4a31-ada0-22cf7318461e",
   "metadata": {},
   "outputs": [],
   "source": [
    "looping statements"
   ]
  },
  {
   "cell_type": "code",
   "execution_count": null,
   "id": "19c3b201-8443-4d24-bd99-2e5d0d82df76",
   "metadata": {},
   "outputs": [],
   "source": []
  },
  {
   "cell_type": "code",
   "execution_count": null,
   "id": "f0278431-8699-4759-942f-6a74f1c4dff0",
   "metadata": {},
   "outputs": [],
   "source": []
  },
  {
   "cell_type": "code",
   "execution_count": null,
   "id": "9d06cf10-46b0-4a3b-ac29-6ff41f277606",
   "metadata": {},
   "outputs": [],
   "source": []
  }
 ],
 "metadata": {
  "kernelspec": {
   "display_name": "Python 3 (ipykernel)",
   "language": "python",
   "name": "python3"
  },
  "language_info": {
   "codemirror_mode": {
    "name": "ipython",
    "version": 3
   },
   "file_extension": ".py",
   "mimetype": "text/x-python",
   "name": "python",
   "nbconvert_exporter": "python",
   "pygments_lexer": "ipython3",
   "version": "3.12.7"
  }
 },
 "nbformat": 4,
 "nbformat_minor": 5
}
