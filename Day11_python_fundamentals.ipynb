{
 "cells": [
  {
   "cell_type": "code",
   "execution_count": null,
   "id": "e9b774b3-d9d8-4013-a20d-e0080b3b4ead",
   "metadata": {},
   "outputs": [],
   "source": [
    "introduction to python classes:"
   ]
  },
  {
   "cell_type": "code",
   "execution_count": null,
   "id": "95703b02-9418-44d7-b17b-83ac77022f6f",
   "metadata": {},
   "outputs": [],
   "source": [
    "class =====> high level blue print of the program\n",
    "\n",
    "methods ===> A function written inside the class is called as a method\n",
    "\n",
    "attributes ====> A variable written inside a class is called as an attribute\n",
    "\n",
    "objects/ instances ===> is an approach by using which we can be able to access the class methods \n",
    "\n",
    "self =====> self is temporary placeholder for an object\n",
    "\n",
    "init ===> it is a special method / magical method"
   ]
  },
  {
   "cell_type": "code",
   "execution_count": null,
   "id": "4f96a635-93c3-4ace-a1aa-28e99e0734fc",
   "metadata": {},
   "outputs": [],
   "source": [
    "what are oops: object oriented programming:"
   ]
  },
  {
   "cell_type": "code",
   "execution_count": null,
   "id": "09748afb-53cf-4952-8c7a-6de621957262",
   "metadata": {},
   "outputs": [],
   "source": [
    "#class example : req : design a dog class with its functionalities"
   ]
  },
  {
   "cell_type": "code",
   "execution_count": 12,
   "id": "8558fe14-a0c1-4d50-8219-66c495cdbd73",
   "metadata": {},
   "outputs": [],
   "source": [
    "class Dog:\n",
    "    \"\"\"a simple attempt to model the dog\"\"\"\n",
    "    def __init__(self,name,age):   # this is a method\n",
    "        \"\"\"initalize name and age attributes\"\"\"\n",
    "        self.name = name   # these are attributes\n",
    "        self.age = age\n",
    "\n",
    "    def sit(self):\n",
    "        \"\"\"stimulates a dog sitting in response to a command\"\"\"\n",
    "        print(f\"{self.name} is now sitting\")\n",
    "\n",
    "    def roll_over(self):\n",
    "        \"\"\"simulate rolling over in response to the command\"\"\"\n",
    "        print(f\"{self.name} rolled over\")"
   ]
  },
  {
   "cell_type": "code",
   "execution_count": 13,
   "id": "996d2f7c-51bb-4b6c-a8f5-75534a6e9db8",
   "metadata": {},
   "outputs": [],
   "source": [
    "test = Dog('bruno',6)"
   ]
  },
  {
   "cell_type": "code",
   "execution_count": 15,
   "id": "1101f9cc-14bc-4cbd-8392-da45ca3bb34c",
   "metadata": {},
   "outputs": [
    {
     "name": "stdout",
     "output_type": "stream",
     "text": [
      "bruno is now sitting\n"
     ]
    }
   ],
   "source": [
    "test.sit()"
   ]
  },
  {
   "cell_type": "code",
   "execution_count": 18,
   "id": "9e0d9393-2fe2-45f4-ad7a-76ad850a1ce7",
   "metadata": {},
   "outputs": [
    {
     "name": "stdout",
     "output_type": "stream",
     "text": [
      "bruno rolled over\n"
     ]
    }
   ],
   "source": [
    "test.roll_over()"
   ]
  },
  {
   "cell_type": "code",
   "execution_count": 19,
   "id": "1d503416-80fc-40a3-829c-7fff79952a5b",
   "metadata": {},
   "outputs": [],
   "source": [
    "class car:\n",
    "    \"\"\"a simple attempt to represent a car\"\"\"\n",
    "    def __init__(self,make,model,year):\n",
    "        \"\"\"initialize the attributes to describe the car over here\"\"\"\n",
    "        self.make = make\n",
    "        self.model = model\n",
    "        self.year = year\n",
    "    def get_descriptive_name(self):\n",
    "        \"\"\"return a neatly formatted descriptive name\"\"\"\n",
    "        long_name = f\"{self.make} {self.model} {self.year}\"\n",
    "        return long_name.title()"
   ]
  },
  {
   "cell_type": "code",
   "execution_count": 20,
   "id": "b9e9d315-4af6-4431-a042-fe22a2718569",
   "metadata": {},
   "outputs": [],
   "source": [
    "my_new_car = car('audi','a4',2020)"
   ]
  },
  {
   "cell_type": "code",
   "execution_count": 21,
   "id": "2e63f567-c7a0-425d-a063-6bc62e0eb1af",
   "metadata": {},
   "outputs": [
    {
     "name": "stdout",
     "output_type": "stream",
     "text": [
      "Audi A4 2020\n"
     ]
    }
   ],
   "source": [
    "print(my_new_car.get_descriptive_name())"
   ]
  },
  {
   "cell_type": "code",
   "execution_count": null,
   "id": "a7fa77c7-c797-4b97-bc4f-c02e85bda8e6",
   "metadata": {},
   "outputs": [],
   "source": []
  },
  {
   "cell_type": "code",
   "execution_count": null,
   "id": "f0f383e0-3a70-4639-961b-5dbdf06a4451",
   "metadata": {},
   "outputs": [],
   "source": []
  },
  {
   "cell_type": "code",
   "execution_count": null,
   "id": "d371c102-68c7-4570-8b14-b2df32795c92",
   "metadata": {},
   "outputs": [],
   "source": []
  },
  {
   "cell_type": "code",
   "execution_count": null,
   "id": "7df49f31-eb57-4ae2-8117-ab4718729d22",
   "metadata": {},
   "outputs": [],
   "source": []
  }
 ],
 "metadata": {
  "kernelspec": {
   "display_name": "Python 3 (ipykernel)",
   "language": "python",
   "name": "python3"
  },
  "language_info": {
   "codemirror_mode": {
    "name": "ipython",
    "version": 3
   },
   "file_extension": ".py",
   "mimetype": "text/x-python",
   "name": "python",
   "nbconvert_exporter": "python",
   "pygments_lexer": "ipython3",
   "version": "3.12.7"
  }
 },
 "nbformat": 4,
 "nbformat_minor": 5
}
