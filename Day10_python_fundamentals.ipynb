{
 "cells": [
  {
   "cell_type": "code",
   "execution_count": 5,
   "id": "cecb3a47-fb11-4892-b468-a51b04770495",
   "metadata": {},
   "outputs": [],
   "source": [
    "def describe_pet(pet_name,animal_type = 'dog'):\n",
    "    \"\"\"Describe the info abt the pet\"\"\"\n",
    "    print(f\"\\nI have a {animal_type}\")\n",
    "    print(f\"my {animal_type}'s name is {pet_name}\")"
   ]
  },
  {
   "cell_type": "code",
   "execution_count": 3,
   "id": "3383d301-5d59-4a08-b6cc-b8d199393f10",
   "metadata": {},
   "outputs": [
    {
     "name": "stdout",
     "output_type": "stream",
     "text": [
      "\n",
      "I have a dog\n",
      "my dog's name is bruno\n"
     ]
    }
   ],
   "source": [
    "describe_pet('dog','bruno')"
   ]
  },
  {
   "cell_type": "code",
   "execution_count": 6,
   "id": "a4730964-6b57-4b84-9781-a63bd26e5f21",
   "metadata": {},
   "outputs": [
    {
     "name": "stdout",
     "output_type": "stream",
     "text": [
      "\n",
      "I have a dog\n",
      "my dog's name is rex\n"
     ]
    }
   ],
   "source": [
    "describe_pet('rex')"
   ]
  },
  {
   "cell_type": "code",
   "execution_count": null,
   "id": "8f7cca6f-1fbf-4f64-a78e-d5c1b25460d8",
   "metadata": {},
   "outputs": [],
   "source": [
    "returning a simple value : "
   ]
  },
  {
   "cell_type": "code",
   "execution_count": null,
   "id": "84682cc3-6c29-4c4d-a34d-afb77216a961",
   "metadata": {},
   "outputs": [],
   "source": [
    "#req: take a firstname and lastname and return it with a neatly formatted name..."
   ]
  },
  {
   "cell_type": "code",
   "execution_count": 12,
   "id": "e5aee17d-3161-4b14-ac83-a0e3052b4ae8",
   "metadata": {},
   "outputs": [],
   "source": [
    "def get_formatted_name(first_name,last_name):\n",
    "    \"\"\"return a fullname, neatly formatted\"\"\"\n",
    "    full_name = f\"{first_name} {last_name}\"\n",
    "    return full_name.title()"
   ]
  },
  {
   "cell_type": "code",
   "execution_count": 13,
   "id": "19906cba-9cef-4b7c-870a-5c6303dfe1fe",
   "metadata": {},
   "outputs": [
    {
     "name": "stdout",
     "output_type": "stream",
     "text": [
      "Sai Kiran\n"
     ]
    }
   ],
   "source": [
    "person = get_formatted_name('sai','kiran')\n",
    "print(person)"
   ]
  },
  {
   "cell_type": "code",
   "execution_count": null,
   "id": "d97c66f3-8945-4a8d-a841-3a9ccf595474",
   "metadata": {},
   "outputs": [],
   "source": [
    "passing arbitary no of arguments:"
   ]
  },
  {
   "cell_type": "code",
   "execution_count": null,
   "id": "36bbcd71-c831-40f9-85c0-9f3ba79e2723",
   "metadata": {},
   "outputs": [],
   "source": [
    "# req: "
   ]
  },
  {
   "cell_type": "code",
   "execution_count": 16,
   "id": "54a2afd4-d50d-4798-be2b-23849cac2958",
   "metadata": {},
   "outputs": [],
   "source": [
    "def make_pizza(toppings):\n",
    "    \"\"\"print the list of toppings tht has been requested\"\"\"\n",
    "    print(toppings)"
   ]
  },
  {
   "cell_type": "code",
   "execution_count": 17,
   "id": "7e8cbf45-a1a6-48a7-96db-6c9f9cafe5f4",
   "metadata": {},
   "outputs": [
    {
     "name": "stdout",
     "output_type": "stream",
     "text": [
      "olives\n"
     ]
    }
   ],
   "source": [
    "make_pizza('olives')"
   ]
  },
  {
   "cell_type": "code",
   "execution_count": 18,
   "id": "25d41cd5-7194-40c6-b5ab-0fbcdb2bcb54",
   "metadata": {},
   "outputs": [
    {
     "ename": "TypeError",
     "evalue": "make_pizza() takes 1 positional argument but 2 were given",
     "output_type": "error",
     "traceback": [
      "\u001b[1;31m---------------------------------------------------------------------------\u001b[0m",
      "\u001b[1;31mTypeError\u001b[0m                                 Traceback (most recent call last)",
      "Cell \u001b[1;32mIn[18], line 1\u001b[0m\n\u001b[1;32m----> 1\u001b[0m make_pizza(\u001b[38;5;124m'\u001b[39m\u001b[38;5;124molives\u001b[39m\u001b[38;5;124m'\u001b[39m,\u001b[38;5;124m'\u001b[39m\u001b[38;5;124mcorns\u001b[39m\u001b[38;5;124m'\u001b[39m)\n",
      "\u001b[1;31mTypeError\u001b[0m: make_pizza() takes 1 positional argument but 2 were given"
     ]
    }
   ],
   "source": [
    "make_pizza('olives','corns')"
   ]
  },
  {
   "cell_type": "code",
   "execution_count": 19,
   "id": "0702a430-b7e0-4a4d-8dab-69dc097b7544",
   "metadata": {},
   "outputs": [],
   "source": [
    "def make_pizza(*toppings):\n",
    "    \"\"\"print the list of toppings tht has been requested\"\"\"\n",
    "    print(toppings)"
   ]
  },
  {
   "cell_type": "code",
   "execution_count": 20,
   "id": "64ab7a6c-962c-403b-9806-ad7555544212",
   "metadata": {},
   "outputs": [
    {
     "name": "stdout",
     "output_type": "stream",
     "text": [
      "('olives', 'corns')\n"
     ]
    }
   ],
   "source": [
    "make_pizza('olives','corns')"
   ]
  },
  {
   "cell_type": "code",
   "execution_count": 21,
   "id": "bc035aa0-076a-4965-8e9a-7528d0ba56ae",
   "metadata": {},
   "outputs": [
    {
     "name": "stdout",
     "output_type": "stream",
     "text": [
      "('olives', 'corns', 'onions')\n"
     ]
    }
   ],
   "source": [
    "make_pizza('olives','corns','onions')"
   ]
  },
  {
   "cell_type": "code",
   "execution_count": 22,
   "id": "38885f34-b9c4-4af1-a291-5d09e23e97fd",
   "metadata": {},
   "outputs": [],
   "source": [
    "def make_pizza(*toppings):\n",
    "    \"\"\"Summarize the pizza tht i want to make\"\"\"\n",
    "    print(\"\\nMaking the pizza with the below toppings\")\n",
    "    for a in toppings:\n",
    "        print(f\"-{a}\")"
   ]
  },
  {
   "cell_type": "code",
   "execution_count": 23,
   "id": "ceb4eccd-ae58-4fed-bbe9-e322848bcdec",
   "metadata": {},
   "outputs": [
    {
     "name": "stdout",
     "output_type": "stream",
     "text": [
      "\n",
      "Making the pizza with the below toppings\n",
      "-olives\n",
      "-corns\n",
      "-onions\n"
     ]
    }
   ],
   "source": [
    "make_pizza('olives','corns','onions')"
   ]
  },
  {
   "cell_type": "code",
   "execution_count": 28,
   "id": "4369f475-0680-4b0a-b5a0-d0e8a021b518",
   "metadata": {},
   "outputs": [],
   "source": [
    "def make_pizza(size,*toppings):\n",
    "    \"\"\"Summarize the pizza tht i want to make\"\"\"\n",
    "    print(f\"\\nMaking a {size} inch pizza with the below toppings\")\n",
    "    for a in toppings:\n",
    "        print(f\"-{a}\")"
   ]
  },
  {
   "cell_type": "code",
   "execution_count": 29,
   "id": "cc289568-9a0d-4476-afaf-1b63e7812549",
   "metadata": {},
   "outputs": [
    {
     "name": "stdout",
     "output_type": "stream",
     "text": [
      "\n",
      "Making a 12 inch pizza with the below toppings\n",
      "-olives\n",
      "-corns\n"
     ]
    }
   ],
   "source": [
    "make_pizza(12,'olives','corns')"
   ]
  },
  {
   "cell_type": "code",
   "execution_count": null,
   "id": "77c08bd6-fe3d-477b-a027-5cee062b69cf",
   "metadata": {},
   "outputs": [],
   "source": []
  },
  {
   "cell_type": "code",
   "execution_count": null,
   "id": "2447cba2-3e09-4972-954d-ce2e9367db54",
   "metadata": {},
   "outputs": [],
   "source": []
  },
  {
   "cell_type": "code",
   "execution_count": null,
   "id": "f8798a98-5833-46af-8637-cdd624e23a97",
   "metadata": {},
   "outputs": [],
   "source": []
  },
  {
   "cell_type": "code",
   "execution_count": null,
   "id": "dd09da6d-6ca8-4918-a3a3-b0a1f66b80fc",
   "metadata": {},
   "outputs": [],
   "source": []
  }
 ],
 "metadata": {
  "kernelspec": {
   "display_name": "Python 3 (ipykernel)",
   "language": "python",
   "name": "python3"
  },
  "language_info": {
   "codemirror_mode": {
    "name": "ipython",
    "version": 3
   },
   "file_extension": ".py",
   "mimetype": "text/x-python",
   "name": "python",
   "nbconvert_exporter": "python",
   "pygments_lexer": "ipython3",
   "version": "3.12.7"
  }
 },
 "nbformat": 4,
 "nbformat_minor": 5
}
