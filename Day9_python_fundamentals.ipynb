{
 "cells": [
  {
   "cell_type": "code",
   "execution_count": null,
   "id": "30596fe4-bc8b-442b-9009-99241a95f857",
   "metadata": {},
   "outputs": [],
   "source": [
    "Introduction to python functions:"
   ]
  },
  {
   "cell_type": "code",
   "execution_count": null,
   "id": "c079295d-f522-46de-ae54-b683b8839129",
   "metadata": {},
   "outputs": [],
   "source": [
    "how to define a python function: def\n",
    "for giving a function name use small case letters"
   ]
  },
  {
   "cell_type": "code",
   "execution_count": 3,
   "id": "48d2e639-ef49-4691-826c-ba69e168197a",
   "metadata": {},
   "outputs": [],
   "source": [
    "def greet():   #this part is called as defining the function\n",
    "    \"\"\"this function will greet the user\"\"\"  #this is doc string \n",
    "    print(\"hello\")"
   ]
  },
  {
   "cell_type": "code",
   "execution_count": 5,
   "id": "f108dd8d-d302-4bd4-8978-f64f6469a526",
   "metadata": {},
   "outputs": [
    {
     "name": "stdout",
     "output_type": "stream",
     "text": [
      "hello\n"
     ]
    }
   ],
   "source": [
    "greet()   #function call "
   ]
  },
  {
   "cell_type": "code",
   "execution_count": 6,
   "id": "33b2531a-8463-4547-bae3-ecbcfdd97d0d",
   "metadata": {},
   "outputs": [],
   "source": [
    "def greet_user():\n",
    "    \"\"\"display a simple greeting\"\"\"\n",
    "    print(\"Hello\")"
   ]
  },
  {
   "cell_type": "code",
   "execution_count": 7,
   "id": "654b6b7d-cb60-4892-abd8-a4f83977c702",
   "metadata": {},
   "outputs": [
    {
     "name": "stdout",
     "output_type": "stream",
     "text": [
      "Hello\n"
     ]
    }
   ],
   "source": [
    "greet_user()"
   ]
  },
  {
   "cell_type": "code",
   "execution_count": 15,
   "id": "bda4054f-0d5f-41d0-b6be-b850ad3107e4",
   "metadata": {},
   "outputs": [],
   "source": [
    "def greet_user(username):      #declaring parameters   #params\n",
    "    \"\"\"display a simple greeting\"\"\"\n",
    "    print(f\"hello,{username.title()}\")"
   ]
  },
  {
   "cell_type": "code",
   "execution_count": 16,
   "id": "5d7ccd5e-6c19-4379-b0f5-f97ae8cb67e4",
   "metadata": {},
   "outputs": [
    {
     "name": "stdout",
     "output_type": "stream",
     "text": [
      "hello,Anil\n"
     ]
    }
   ],
   "source": [
    "greet_user('anil')   #arguments passing   #args"
   ]
  },
  {
   "cell_type": "code",
   "execution_count": 13,
   "id": "b09546e6-689e-45c8-88e1-a676dd339144",
   "metadata": {},
   "outputs": [
    {
     "name": "stdout",
     "output_type": "stream",
     "text": [
      "hello,Harshad\n"
     ]
    }
   ],
   "source": [
    "greet_user('harshad')"
   ]
  },
  {
   "cell_type": "code",
   "execution_count": null,
   "id": "39b15971-81cf-49ac-8c1b-9377015975db",
   "metadata": {},
   "outputs": [],
   "source": [
    "types of arguments :\n",
    "1. positional arguments\n",
    "2. keyword arguments\n",
    "3. arbitary arguments"
   ]
  },
  {
   "cell_type": "code",
   "execution_count": 20,
   "id": "3491d26e-b5c3-4eb3-8cd5-5911bf047358",
   "metadata": {},
   "outputs": [],
   "source": [
    "#def the func\n",
    "#req: define the func with name describe_pet which takes two parameters : pet_name and animal_type\n",
    "\n",
    "def describe_pet(animal_type,pet_name):\n",
    "    \"\"\"Describe the info abt the pet\"\"\"\n",
    "    print(f\"\\nI have a {animal_type}\")\n",
    "    print(f\"my {animal_type}'s name is {pet_name}\")"
   ]
  },
  {
   "cell_type": "code",
   "execution_count": 21,
   "id": "655112ca-d955-44c8-9ceb-cb3d0be1db37",
   "metadata": {},
   "outputs": [
    {
     "name": "stdout",
     "output_type": "stream",
     "text": [
      "\n",
      "I have a dog\n",
      "my dog's name is bruno\n"
     ]
    }
   ],
   "source": [
    "describe_pet('dog','bruno')"
   ]
  },
  {
   "cell_type": "code",
   "execution_count": 22,
   "id": "9121c24a-b22f-41ff-87e9-e0e7ad9f2363",
   "metadata": {},
   "outputs": [
    {
     "name": "stdout",
     "output_type": "stream",
     "text": [
      "\n",
      "I have a cat\n",
      "my cat's name is rex\n"
     ]
    }
   ],
   "source": [
    "describe_pet('cat','rex')"
   ]
  },
  {
   "cell_type": "code",
   "execution_count": 23,
   "id": "0a5a6830-675c-40df-9ca3-60938c350a82",
   "metadata": {},
   "outputs": [
    {
     "name": "stdout",
     "output_type": "stream",
     "text": [
      "\n",
      "I have a parrot\n",
      "my parrot's name is sweety\n"
     ]
    }
   ],
   "source": [
    "describe_pet('parrot','sweety')"
   ]
  },
  {
   "cell_type": "code",
   "execution_count": 25,
   "id": "6d656795-b801-4e20-873b-3050e219fca2",
   "metadata": {},
   "outputs": [
    {
     "name": "stdout",
     "output_type": "stream",
     "text": [
      "\n",
      "I have a parrot\n",
      "my parrot's name is sweety\n"
     ]
    }
   ],
   "source": [
    "describe_pet(pet_name = 'sweety', animal_type = 'parrot')"
   ]
  },
  {
   "cell_type": "code",
   "execution_count": null,
   "id": "fbbb60d0-1715-4baf-84ac-94821d147e53",
   "metadata": {},
   "outputs": [],
   "source": []
  },
  {
   "cell_type": "code",
   "execution_count": null,
   "id": "6fd0711a-6ad3-4c78-83e2-eda229d28f3a",
   "metadata": {},
   "outputs": [],
   "source": []
  },
  {
   "cell_type": "code",
   "execution_count": null,
   "id": "2affcfe8-77c7-41ec-ab0a-6f7dd1e76fa8",
   "metadata": {},
   "outputs": [],
   "source": []
  }
 ],
 "metadata": {
  "kernelspec": {
   "display_name": "Python 3 (ipykernel)",
   "language": "python",
   "name": "python3"
  },
  "language_info": {
   "codemirror_mode": {
    "name": "ipython",
    "version": 3
   },
   "file_extension": ".py",
   "mimetype": "text/x-python",
   "name": "python",
   "nbconvert_exporter": "python",
   "pygments_lexer": "ipython3",
   "version": "3.12.7"
  }
 },
 "nbformat": 4,
 "nbformat_minor": 5
}
