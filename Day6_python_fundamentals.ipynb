{
 "cells": [
  {
   "cell_type": "code",
   "execution_count": null,
   "id": "59809702-7b9f-4dfc-9b4a-e633a009a472",
   "metadata": {},
   "outputs": [],
   "source": [
    "introduction to dictionaries:\n",
    "def: A dictionary is a combination of key, value pairs\n",
    "classification: it is classified as a mutable datatype\n",
    "how to define dictionary : {} #curly brackets"
   ]
  },
  {
   "cell_type": "code",
   "execution_count": null,
   "id": "b0e0e71e-73db-4084-b6e4-26ad1c066550",
   "metadata": {},
   "outputs": [],
   "source": [
    "#req: i want to design a alien game"
   ]
  },
  {
   "cell_type": "code",
   "execution_count": 1,
   "id": "963786fa-797a-42a7-a7f0-b48903e755fc",
   "metadata": {},
   "outputs": [
    {
     "name": "stdout",
     "output_type": "stream",
     "text": [
      "{'color': 'green', 'points': 5}\n"
     ]
    }
   ],
   "source": [
    "alien = {'color':'green','points':5}\n",
    "print(alien)"
   ]
  },
  {
   "cell_type": "code",
   "execution_count": 2,
   "id": "bcade861-d8a5-4606-8c7f-4fa1aa5a0cda",
   "metadata": {},
   "outputs": [
    {
     "data": {
      "text/plain": [
       "dict"
      ]
     },
     "execution_count": 2,
     "metadata": {},
     "output_type": "execute_result"
    }
   ],
   "source": [
    "type(alien)"
   ]
  },
  {
   "cell_type": "code",
   "execution_count": 3,
   "id": "4890584a-d0e4-45ed-b1d2-3301342c5953",
   "metadata": {},
   "outputs": [],
   "source": [
    "#req: i want to add the start pos of the alien\n",
    "alien[\"start_position\"] = \"level\""
   ]
  },
  {
   "cell_type": "code",
   "execution_count": 4,
   "id": "b47bca1b-222c-4d2d-9424-f56244d459ab",
   "metadata": {},
   "outputs": [
    {
     "name": "stdout",
     "output_type": "stream",
     "text": [
      "{'color': 'green', 'points': 5, 'start_position': 'level'}\n"
     ]
    }
   ],
   "source": [
    "print(alien)"
   ]
  },
  {
   "cell_type": "code",
   "execution_count": 5,
   "id": "5f587063-71fa-4edf-8dea-bffb7adde013",
   "metadata": {},
   "outputs": [
    {
     "name": "stdout",
     "output_type": "stream",
     "text": [
      "green\n"
     ]
    }
   ],
   "source": [
    "#req : i want o knw the color of the alien\n",
    "print(alien['color'])"
   ]
  },
  {
   "cell_type": "code",
   "execution_count": 9,
   "id": "c74149ac-ef18-4a04-bbd0-033b92b006b5",
   "metadata": {},
   "outputs": [],
   "source": [
    "#req: i want to modify the color of the alien from green to red\n",
    "alien['color']='red'"
   ]
  },
  {
   "cell_type": "code",
   "execution_count": 10,
   "id": "b424714d-182f-4687-b82a-7753e792dcfa",
   "metadata": {},
   "outputs": [
    {
     "name": "stdout",
     "output_type": "stream",
     "text": [
      "{'color': 'red', 'points': 5, 'start_position': 'level', 'aolor': 'red'}\n"
     ]
    }
   ],
   "source": [
    "print(alien)"
   ]
  },
  {
   "cell_type": "code",
   "execution_count": 11,
   "id": "8b7e535a-8043-4b58-8536-8a5f9f531286",
   "metadata": {},
   "outputs": [],
   "source": [
    "#req: i want to create the facebook user account\n",
    "user_account={'firstname':'code','lastname':'training','username':'codetrainingacademy','dob':'01-01-2020','pwd':'54321'}"
   ]
  },
  {
   "cell_type": "code",
   "execution_count": 12,
   "id": "bb84bd61-5e6f-4710-b424-1b8a19dbb267",
   "metadata": {},
   "outputs": [
    {
     "name": "stdout",
     "output_type": "stream",
     "text": [
      "{'firstname': 'code', 'lastname': 'training', 'username': 'codetrainingacademy', 'dob': '01-01-2020', 'pwd': '54321'}\n"
     ]
    }
   ],
   "source": [
    "print(user_account)"
   ]
  },
  {
   "cell_type": "code",
   "execution_count": null,
   "id": "08e39515-08b8-4941-8880-df6540b96e4c",
   "metadata": {},
   "outputs": [],
   "source": [
    "#req: how to del key value pairs"
   ]
  },
  {
   "cell_type": "code",
   "execution_count": 13,
   "id": "751b4e8a-d9fa-44ac-847c-7c844f6f4742",
   "metadata": {},
   "outputs": [],
   "source": [
    "#req: i want to del the lastname\n",
    "del user_account['lastname']"
   ]
  },
  {
   "cell_type": "code",
   "execution_count": 14,
   "id": "c1e259fa-55d2-43f7-8115-9a794abc2514",
   "metadata": {},
   "outputs": [
    {
     "name": "stdout",
     "output_type": "stream",
     "text": [
      "{'firstname': 'code', 'username': 'codetrainingacademy', 'dob': '01-01-2020', 'pwd': '54321'}\n"
     ]
    }
   ],
   "source": [
    "print(user_account)"
   ]
  },
  {
   "cell_type": "code",
   "execution_count": null,
   "id": "da8782e4-0d7a-4e2f-907b-889e44c48851",
   "metadata": {},
   "outputs": [],
   "source": [
    "introduction to looping statements:"
   ]
  },
  {
   "cell_type": "code",
   "execution_count": 15,
   "id": "68d72fe6-1e79-424d-a064-785d3182ac90",
   "metadata": {},
   "outputs": [],
   "source": [
    "students =['durga','dinesh','kavya','noor','raza','abid','joseph']"
   ]
  },
  {
   "cell_type": "code",
   "execution_count": 17,
   "id": "f2e40551-98b7-4670-80a1-81e1b473b5be",
   "metadata": {},
   "outputs": [
    {
     "name": "stdout",
     "output_type": "stream",
     "text": [
      "keep up the good work,Durga\n"
     ]
    }
   ],
   "source": [
    "print(f\"keep up the good work,{students[0].title()}\")"
   ]
  },
  {
   "cell_type": "code",
   "execution_count": 18,
   "id": "0c09d46c-f9e5-424e-bfe1-79d014ed26e7",
   "metadata": {},
   "outputs": [
    {
     "name": "stdout",
     "output_type": "stream",
     "text": [
      "keep up the good work,Dinesh\n"
     ]
    }
   ],
   "source": [
    "print(f\"keep up the good work,{students[1].title()}\")"
   ]
  },
  {
   "cell_type": "code",
   "execution_count": 19,
   "id": "054af056-f1b2-42f5-bf63-208f072eb2b0",
   "metadata": {},
   "outputs": [
    {
     "name": "stdout",
     "output_type": "stream",
     "text": [
      "keep up the good work,Kavya\n"
     ]
    }
   ],
   "source": [
    "print(f\"keep up the good work,{students[2].title()}\")"
   ]
  },
  {
   "cell_type": "code",
   "execution_count": null,
   "id": "925cd8f4-ab40-42d9-b97b-21b1443351c4",
   "metadata": {},
   "outputs": [],
   "source": [
    "introduction to for loop:\n",
    "syntax:\n",
    "for temporary in mainvar:\n",
    "    print(tempvar)"
   ]
  },
  {
   "cell_type": "code",
   "execution_count": 20,
   "id": "d3152b78-7390-403b-a71b-c430eccd50bc",
   "metadata": {},
   "outputs": [
    {
     "name": "stdout",
     "output_type": "stream",
     "text": [
      "keep up the good work,Durga \n",
      "keep up the good work,Dinesh \n",
      "keep up the good work,Kavya \n",
      "keep up the good work,Noor \n",
      "keep up the good work,Raza \n",
      "keep up the good work,Abid \n",
      "keep up the good work,Joseph \n"
     ]
    }
   ],
   "source": [
    "for x in students:\n",
    "    print(f\"keep up the good work,{x.title()} \")"
   ]
  },
  {
   "cell_type": "code",
   "execution_count": 21,
   "id": "60dcbd53-fcda-4e5f-bd53-cd517d130c61",
   "metadata": {},
   "outputs": [
    {
     "name": "stdout",
     "output_type": "stream",
     "text": [
      "durga\n",
      "dinesh\n",
      "kavya\n",
      "noor\n",
      "raza\n",
      "abid\n",
      "joseph\n"
     ]
    }
   ],
   "source": [
    "for a in students:\n",
    "    print(a)"
   ]
  },
  {
   "cell_type": "code",
   "execution_count": null,
   "id": "1b467bcf-2e8b-4f87-86b7-cdf39c4bab3b",
   "metadata": {},
   "outputs": [],
   "source": []
  },
  {
   "cell_type": "code",
   "execution_count": null,
   "id": "ab231e5f-c63f-49d1-82ed-66c7c4ed1e97",
   "metadata": {},
   "outputs": [],
   "source": []
  },
  {
   "cell_type": "code",
   "execution_count": null,
   "id": "74afca3b-52a8-47ab-bf50-5d850c7ac6f9",
   "metadata": {},
   "outputs": [],
   "source": []
  },
  {
   "cell_type": "code",
   "execution_count": null,
   "id": "2e725510-8864-437d-a3a0-3af81f3af440",
   "metadata": {},
   "outputs": [],
   "source": []
  },
  {
   "cell_type": "code",
   "execution_count": null,
   "id": "1413c8a1-c2bf-472b-852c-a6e5d1608251",
   "metadata": {},
   "outputs": [],
   "source": []
  }
 ],
 "metadata": {
  "kernelspec": {
   "display_name": "Python 3 (ipykernel)",
   "language": "python",
   "name": "python3"
  },
  "language_info": {
   "codemirror_mode": {
    "name": "ipython",
    "version": 3
   },
   "file_extension": ".py",
   "mimetype": "text/x-python",
   "name": "python",
   "nbconvert_exporter": "python",
   "pygments_lexer": "ipython3",
   "version": "3.12.7"
  }
 },
 "nbformat": 4,
 "nbformat_minor": 5
}
