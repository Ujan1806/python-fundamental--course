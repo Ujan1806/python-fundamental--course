{
 "cells": [
  {
   "cell_type": "code",
   "execution_count": null,
   "id": "575af49a-0e23-4d0b-81f2-37f7a5cb362a",
   "metadata": {},
   "outputs": [],
   "source": [
    "continuation with string data type:\n"
   ]
  },
  {
   "cell_type": "code",
   "execution_count": null,
   "id": "ad1f5cfc-5553-496d-af04-a765a4e2d6a3",
   "metadata": {},
   "outputs": [],
   "source": [
    "introduction to f strings **"
   ]
  },
  {
   "cell_type": "code",
   "execution_count": null,
   "id": "ad3a2766-b759-4377-bac8-4d34bfc4c632",
   "metadata": {},
   "outputs": [],
   "source": [
    "firstname = 'dinesh'\n",
    "lastname = 'kumar'"
   ]
  },
  {
   "cell_type": "code",
   "execution_count": null,
   "id": "41af3b7f-555a-4ed7-8637-c23e4cd83e52",
   "metadata": {},
   "outputs": [],
   "source": [
    "#req : i want to get the fullname...?"
   ]
  },
  {
   "cell_type": "code",
   "execution_count": null,
   "id": "1c0edabc-94f0-4466-bc9b-0c3cf8f4fa36",
   "metadata": {},
   "outputs": [],
   "source": [
    "#general syntax of f strings"
   ]
  },
  {
   "cell_type": "code",
   "execution_count": null,
   "id": "a5579a47-7b77-4405-924b-8f8d46d9757b",
   "metadata": {},
   "outputs": [],
   "source": [
    "f\"custom message {place_holder1} {placeholder2}........{placeholder_n}\""
   ]
  },
  {
   "cell_type": "code",
   "execution_count": 4,
   "id": "7226d62b-26d6-4128-8a5d-58b9076b439d",
   "metadata": {},
   "outputs": [
    {
     "name": "stdout",
     "output_type": "stream",
     "text": [
      "dinesh kumar\n"
     ]
    }
   ],
   "source": [
    "firstname = 'dinesh'\n",
    "lastname = 'kumar'\n",
    "fullname = f\"{firstname} {lastname}\"\n",
    "print(fullname)"
   ]
  },
  {
   "cell_type": "code",
   "execution_count": 6,
   "id": "88d3d162-23c5-4fe6-9507-a7989720c43c",
   "metadata": {},
   "outputs": [
    {
     "name": "stdout",
     "output_type": "stream",
     "text": [
      "keep up the work,Dinesh Kumar\n"
     ]
    }
   ],
   "source": [
    "message = f\"keep up the work,{fullname.title()}\"\n",
    "print(message)"
   ]
  },
  {
   "cell_type": "code",
   "execution_count": null,
   "id": "380d9d47-6521-4fa8-a770-743db95c7f6d",
   "metadata": {},
   "outputs": [],
   "source": [
    "adding whitespaces to strings:"
   ]
  },
  {
   "cell_type": "code",
   "execution_count": 7,
   "id": "22c1cab5-2216-4148-b1c9-cd22b5759dfa",
   "metadata": {},
   "outputs": [
    {
     "name": "stdout",
     "output_type": "stream",
     "text": [
      "favourite_language:\n",
      "python\n",
      "C\n",
      "java\n",
      "c++\n",
      "swift\n",
      "javascript\n"
     ]
    }
   ],
   "source": [
    "print(\"favourite_language:\\npython\\nC\\njava\\nc++\\nswift\\njavascript\")     #new line delimiter"
   ]
  },
  {
   "cell_type": "code",
   "execution_count": 8,
   "id": "9ade8676-8122-4175-8d8b-dacfb698e680",
   "metadata": {},
   "outputs": [
    {
     "name": "stdout",
     "output_type": "stream",
     "text": [
      "favourite_language:\n",
      "\tpython\n",
      "\tC\n",
      "\tjava\n",
      "\tc++\n",
      "\tswift\n",
      "\tjavascript\n"
     ]
    }
   ],
   "source": [
    "print(\"favourite_language:\\n\\tpython\\n\\tC\\n\\tjava\\n\\tc++\\n\\tswift\\n\\tjavascript\")"
   ]
  },
  {
   "cell_type": "code",
   "execution_count": null,
   "id": "7fe76261-9269-4e2d-917d-305cbf169d2b",
   "metadata": {},
   "outputs": [],
   "source": [
    "#\\n is newline delimiter and  \\t is tab delimiter"
   ]
  },
  {
   "cell_type": "code",
   "execution_count": null,
   "id": "e260d18d-c271-4b50-8c89-56e3a8031f55",
   "metadata": {},
   "outputs": [],
   "source": [
    "#removing white spaces from the strings :"
   ]
  },
  {
   "cell_type": "code",
   "execution_count": 9,
   "id": "98755e26-db03-407a-b3b9-9c3261a73c58",
   "metadata": {},
   "outputs": [
    {
     "name": "stdout",
     "output_type": "stream",
     "text": [
      "  python\n"
     ]
    }
   ],
   "source": [
    "name=\"  python\"\n",
    "print(name)"
   ]
  },
  {
   "cell_type": "code",
   "execution_count": 10,
   "id": "97bbd28b-22fd-46f3-823c-b80a6899390a",
   "metadata": {},
   "outputs": [
    {
     "name": "stdout",
     "output_type": "stream",
     "text": [
      "python\n"
     ]
    }
   ],
   "source": [
    "name2=\"python\"\n",
    "print(name2)"
   ]
  },
  {
   "cell_type": "code",
   "execution_count": 11,
   "id": "74d4ef6e-7953-4829-b788-19708c27c46b",
   "metadata": {},
   "outputs": [
    {
     "name": "stdout",
     "output_type": "stream",
     "text": [
      "python  \n"
     ]
    }
   ],
   "source": [
    "name3= \"python  \"\n",
    "print(name3)"
   ]
  },
  {
   "cell_type": "code",
   "execution_count": 12,
   "id": "7137b0ff-46ca-4795-9b7c-6e29c6cb145d",
   "metadata": {},
   "outputs": [
    {
     "data": {
      "text/plain": [
       "'python'"
      ]
     },
     "execution_count": 12,
     "metadata": {},
     "output_type": "execute_result"
    }
   ],
   "source": [
    "name.lstrip()     #l is for left side striping off"
   ]
  },
  {
   "cell_type": "code",
   "execution_count": 16,
   "id": "376c23df-1386-41a1-bef1-88a966b647e0",
   "metadata": {},
   "outputs": [
    {
     "data": {
      "text/plain": [
       "'python'"
      ]
     },
     "execution_count": 16,
     "metadata": {},
     "output_type": "execute_result"
    }
   ],
   "source": [
    "name3.rstrip()    #r is for right side striping off"
   ]
  },
  {
   "cell_type": "code",
   "execution_count": 17,
   "id": "30890446-aaac-4f53-ac08-39fabfd8092f",
   "metadata": {},
   "outputs": [
    {
     "name": "stdout",
     "output_type": "stream",
     "text": [
      " python \n"
     ]
    }
   ],
   "source": [
    "name4 = \" python \"\n",
    "print(name4)"
   ]
  },
  {
   "cell_type": "code",
   "execution_count": 18,
   "id": "e2556dfd-1d59-4b9d-9dc0-4abb6972e5e9",
   "metadata": {},
   "outputs": [
    {
     "data": {
      "text/plain": [
       "'python'"
      ]
     },
     "execution_count": 18,
     "metadata": {},
     "output_type": "execute_result"
    }
   ],
   "source": [
    "name4.strip()     #only strip is for both the sides"
   ]
  },
  {
   "cell_type": "code",
   "execution_count": null,
   "id": "0202da65-c4a4-4ba3-9fed-950fc5408370",
   "metadata": {},
   "outputs": [],
   "source": [
    "# zen of python : guiding principles"
   ]
  },
  {
   "cell_type": "code",
   "execution_count": 19,
   "id": "7249df21-addd-425f-bcd1-c9dce126a164",
   "metadata": {},
   "outputs": [
    {
     "name": "stdout",
     "output_type": "stream",
     "text": [
      "The Zen of Python, by Tim Peters\n",
      "\n",
      "Beautiful is better than ugly.\n",
      "Explicit is better than implicit.\n",
      "Simple is better than complex.\n",
      "Complex is better than complicated.\n",
      "Flat is better than nested.\n",
      "Sparse is better than dense.\n",
      "Readability counts.\n",
      "Special cases aren't special enough to break the rules.\n",
      "Although practicality beats purity.\n",
      "Errors should never pass silently.\n",
      "Unless explicitly silenced.\n",
      "In the face of ambiguity, refuse the temptation to guess.\n",
      "There should be one-- and preferably only one --obvious way to do it.\n",
      "Although that way may not be obvious at first unless you're Dutch.\n",
      "Now is better than never.\n",
      "Although never is often better than *right* now.\n",
      "If the implementation is hard to explain, it's a bad idea.\n",
      "If the implementation is easy to explain, it may be a good idea.\n",
      "Namespaces are one honking great idea -- let's do more of those!\n"
     ]
    }
   ],
   "source": [
    "import this"
   ]
  },
  {
   "cell_type": "code",
   "execution_count": null,
   "id": "57b3bad7-0a77-4a8b-b159-ec47369657ed",
   "metadata": {},
   "outputs": [],
   "source": []
  },
  {
   "cell_type": "code",
   "execution_count": null,
   "id": "1f728a33-fe88-4ff7-85fb-b5106e4e366f",
   "metadata": {},
   "outputs": [],
   "source": []
  },
  {
   "cell_type": "code",
   "execution_count": null,
   "id": "6055d8ee-c613-49f4-bf2e-7a0d11924dfa",
   "metadata": {},
   "outputs": [],
   "source": []
  },
  {
   "cell_type": "code",
   "execution_count": null,
   "id": "194c1dc2-06ae-40c3-8006-11e48e09b67a",
   "metadata": {},
   "outputs": [],
   "source": []
  }
 ],
 "metadata": {
  "kernelspec": {
   "display_name": "Python 3 (ipykernel)",
   "language": "python",
   "name": "python3"
  },
  "language_info": {
   "codemirror_mode": {
    "name": "ipython",
    "version": 3
   },
   "file_extension": ".py",
   "mimetype": "text/x-python",
   "name": "python",
   "nbconvert_exporter": "python",
   "pygments_lexer": "ipython3",
   "version": "3.12.7"
  }
 },
 "nbformat": 4,
 "nbformat_minor": 5
}
