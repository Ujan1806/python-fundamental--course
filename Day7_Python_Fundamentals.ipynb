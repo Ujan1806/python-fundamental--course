{
 "cells": [
  {
   "cell_type": "code",
   "execution_count": null,
   "id": "0ebfdaa7-3052-449d-986d-aab6f192ae4b",
   "metadata": {},
   "outputs": [],
   "source": [
    "looping statements:\n",
    "for loop:\n",
    "general syntax:\n",
    "for tempvar in mainvar:\n",
    "    print(tempvar)"
   ]
  },
  {
   "cell_type": "code",
   "execution_count": 1,
   "id": "9a187418-4a1f-4492-8c61-bcf072e012f9",
   "metadata": {},
   "outputs": [
    {
     "name": "stdout",
     "output_type": "stream",
     "text": [
      "['akshay', 'bhavana', 'chandu', 'dinesh', 'ehsan']\n"
     ]
    }
   ],
   "source": [
    "students = ['akshay','bhavana','chandu','dinesh','ehsan']\n",
    "print(students)"
   ]
  },
  {
   "cell_type": "code",
   "execution_count": 2,
   "id": "fa359a8e-31f8-4926-a128-f7addbbba6f4",
   "metadata": {},
   "outputs": [
    {
     "name": "stdout",
     "output_type": "stream",
     "text": [
      "keep up the good work,Akshay\n",
      "keep up the good work,Bhavana\n",
      "keep up the good work,Chandu\n",
      "keep up the good work,Dinesh\n",
      "keep up the good work,Ehsan\n"
     ]
    }
   ],
   "source": [
    "#req: i want to appreciate the above students for submitting the work on daily basis:\n",
    "for a in students:\n",
    "    print(f\"keep up the good work,{a.title()}\")"
   ]
  },
  {
   "cell_type": "code",
   "execution_count": 3,
   "id": "117f48a3-d4b8-4618-8d3e-b0abcd33a806",
   "metadata": {},
   "outputs": [
    {
     "name": "stdout",
     "output_type": "stream",
     "text": [
      "keep up the good work,Akshay\n",
      "i am waiting to recieve your submission of today,Akshay\n",
      "keep up the good work,Bhavana\n",
      "i am waiting to recieve your submission of today,Bhavana\n",
      "keep up the good work,Chandu\n",
      "i am waiting to recieve your submission of today,Chandu\n",
      "keep up the good work,Dinesh\n",
      "i am waiting to recieve your submission of today,Dinesh\n",
      "keep up the good work,Ehsan\n",
      "i am waiting to recieve your submission of today,Ehsan\n"
     ]
    }
   ],
   "source": [
    "for a in students:\n",
    "    print(f\"keep up the good work,{a.title()}\")\n",
    "    print(f\"i am waiting to recieve your submission of today,{a.title()}\")"
   ]
  },
  {
   "cell_type": "code",
   "execution_count": 4,
   "id": "fee264fb-63a3-4ddd-9501-e253a4b4e59f",
   "metadata": {},
   "outputs": [
    {
     "name": "stdout",
     "output_type": "stream",
     "text": [
      "keep up the good work,Akshay\n",
      "i am waiting to recieve your submission of today,Akshay\n",
      "\n",
      "keep up the good work,Bhavana\n",
      "i am waiting to recieve your submission of today,Bhavana\n",
      "\n",
      "keep up the good work,Chandu\n",
      "i am waiting to recieve your submission of today,Chandu\n",
      "\n",
      "keep up the good work,Dinesh\n",
      "i am waiting to recieve your submission of today,Dinesh\n",
      "\n",
      "keep up the good work,Ehsan\n",
      "i am waiting to recieve your submission of today,Ehsan\n",
      "\n"
     ]
    }
   ],
   "source": [
    "for a in students:\n",
    "    print(f\"keep up the good work,{a.title()}\")\n",
    "    print(f\"i am waiting to recieve your submission of today,{a.title()}\\n\")"
   ]
  },
  {
   "cell_type": "code",
   "execution_count": 5,
   "id": "73372eda-f4f2-468f-90e1-acc48b2c2ea0",
   "metadata": {},
   "outputs": [
    {
     "name": "stdout",
     "output_type": "stream",
     "text": [
      "keep up the good work,Akshay\n",
      "i am waiting to recieve your submission of today,Akshay\n",
      "keep up the good work,Bhavana\n",
      "i am waiting to recieve your submission of today,Bhavana\n",
      "keep up the good work,Chandu\n",
      "i am waiting to recieve your submission of today,Chandu\n",
      "keep up the good work,Dinesh\n",
      "i am waiting to recieve your submission of today,Dinesh\n",
      "keep up the good work,Ehsan\n",
      "i am waiting to recieve your submission of today,Ehsan\n",
      "thank you all for attending the python training session\n"
     ]
    }
   ],
   "source": [
    "for a in students:\n",
    "    print(f\"keep up the good work,{a.title()}\")\n",
    "    print(f\"i am waiting to recieve your submission of today,{a.title()}\")\n",
    "print(\"thank you all for attending the python training session\")"
   ]
  },
  {
   "cell_type": "code",
   "execution_count": null,
   "id": "1bc8f48c-e620-4ab6-ab40-efd3ad44322c",
   "metadata": {},
   "outputs": [],
   "source": []
  },
  {
   "cell_type": "code",
   "execution_count": null,
   "id": "c142590b-68f2-47ab-9d22-2c6b061220aa",
   "metadata": {},
   "outputs": [],
   "source": []
  },
  {
   "cell_type": "code",
   "execution_count": null,
   "id": "dfb8146e-f74e-488a-8279-6c9c2911049e",
   "metadata": {},
   "outputs": [],
   "source": []
  },
  {
   "cell_type": "code",
   "execution_count": null,
   "id": "7eed41f5-cfb4-456f-b630-5c88896ffc30",
   "metadata": {},
   "outputs": [],
   "source": []
  },
  {
   "cell_type": "code",
   "execution_count": null,
   "id": "c2bda5ff-f66a-4955-8500-ce76d30a6ea9",
   "metadata": {},
   "outputs": [],
   "source": []
  },
  {
   "cell_type": "code",
   "execution_count": null,
   "id": "85588092-5060-409c-b117-f6f6d5f832ee",
   "metadata": {},
   "outputs": [],
   "source": []
  }
 ],
 "metadata": {
  "kernelspec": {
   "display_name": "Python 3 (ipykernel)",
   "language": "python",
   "name": "python3"
  },
  "language_info": {
   "codemirror_mode": {
    "name": "ipython",
    "version": 3
   },
   "file_extension": ".py",
   "mimetype": "text/x-python",
   "name": "python",
   "nbconvert_exporter": "python",
   "pygments_lexer": "ipython3",
   "version": "3.12.7"
  }
 },
 "nbformat": 4,
 "nbformat_minor": 5
}
